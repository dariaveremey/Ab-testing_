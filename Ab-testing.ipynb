{
 "cells": [
  {
   "cell_type": "code",
   "execution_count": 1,
   "id": "2402b4d0",
   "metadata": {},
   "outputs": [],
   "source": [
    "import pandas as pd\n",
    "import numpy as np\n",
    "import seaborn as sns\n",
    "import scipy\n",
    "from scipy import stats\n",
    "from scipy.stats import norm, probplot, rankdata\n",
    "from matplotlib import pyplot as plt\n",
    "from matplotlib.axes import Axes\n",
    "from typing import Tuple, Dict, Optional, Set, List\n",
    "from scipy.stats import mannwhitneyu"
   ]
  },
  {
   "cell_type": "code",
   "execution_count": 2,
   "id": "5905b563",
   "metadata": {},
   "outputs": [],
   "source": [
    "path = 'AB_Testing_Data.csv'"
   ]
  },
  {
   "cell_type": "code",
   "execution_count": 3,
   "id": "d3ed9a34",
   "metadata": {},
   "outputs": [],
   "source": [
    "ab_test_df = pd.read_csv(path)"
   ]
  },
  {
   "cell_type": "code",
   "execution_count": 4,
   "id": "3d8024ef",
   "metadata": {
    "scrolled": true
   },
   "outputs": [
    {
     "data": {
      "text/html": [
       "<div>\n",
       "<style scoped>\n",
       "    .dataframe tbody tr th:only-of-type {\n",
       "        vertical-align: middle;\n",
       "    }\n",
       "\n",
       "    .dataframe tbody tr th {\n",
       "        vertical-align: top;\n",
       "    }\n",
       "\n",
       "    .dataframe thead th {\n",
       "        text-align: right;\n",
       "    }\n",
       "</style>\n",
       "<table border=\"1\" class=\"dataframe\">\n",
       "  <thead>\n",
       "    <tr style=\"text-align: right;\">\n",
       "      <th></th>\n",
       "      <th>USER_ID</th>\n",
       "      <th>VARIANT_NAME</th>\n",
       "      <th>REVENUE</th>\n",
       "    </tr>\n",
       "  </thead>\n",
       "  <tbody>\n",
       "    <tr>\n",
       "      <th>0</th>\n",
       "      <td>737</td>\n",
       "      <td>variant</td>\n",
       "      <td>0.0</td>\n",
       "    </tr>\n",
       "    <tr>\n",
       "      <th>1</th>\n",
       "      <td>2423</td>\n",
       "      <td>control</td>\n",
       "      <td>0.0</td>\n",
       "    </tr>\n",
       "    <tr>\n",
       "      <th>2</th>\n",
       "      <td>9411</td>\n",
       "      <td>control</td>\n",
       "      <td>0.0</td>\n",
       "    </tr>\n",
       "    <tr>\n",
       "      <th>3</th>\n",
       "      <td>7311</td>\n",
       "      <td>control</td>\n",
       "      <td>0.0</td>\n",
       "    </tr>\n",
       "    <tr>\n",
       "      <th>4</th>\n",
       "      <td>6174</td>\n",
       "      <td>variant</td>\n",
       "      <td>0.0</td>\n",
       "    </tr>\n",
       "  </tbody>\n",
       "</table>\n",
       "</div>"
      ],
      "text/plain": [
       "   USER_ID VARIANT_NAME  REVENUE\n",
       "0      737      variant      0.0\n",
       "1     2423      control      0.0\n",
       "2     9411      control      0.0\n",
       "3     7311      control      0.0\n",
       "4     6174      variant      0.0"
      ]
     },
     "execution_count": 4,
     "metadata": {},
     "output_type": "execute_result"
    }
   ],
   "source": [
    "ab_test_df.head()"
   ]
  },
  {
   "cell_type": "markdown",
   "id": "a6aedbe4",
   "metadata": {},
   "source": [
    "Null hypothesis (H₀): The means or distributions of income in the control and test groups do not differ. Alternative hypothesis (H₁): The means or distributions of income in the control and test groups differ."
   ]
  },
  {
   "cell_type": "code",
   "execution_count": 5,
   "id": "011f08d8",
   "metadata": {},
   "outputs": [],
   "source": [
    "ab_test_df = ab_test_df.rename(columns = lambda column_name: column_name.lower())"
   ]
  },
  {
   "cell_type": "code",
   "execution_count": 6,
   "id": "14d690b6",
   "metadata": {},
   "outputs": [
    {
     "data": {
      "text/plain": [
       "(10000, 3)"
      ]
     },
     "execution_count": 6,
     "metadata": {},
     "output_type": "execute_result"
    }
   ],
   "source": [
    "ab_test_df.shape"
   ]
  },
  {
   "cell_type": "code",
   "execution_count": 7,
   "id": "e95f013e",
   "metadata": {},
   "outputs": [
    {
     "data": {
      "text/plain": [
       "user_id           int64\n",
       "variant_name     object\n",
       "revenue         float64\n",
       "dtype: object"
      ]
     },
     "execution_count": 7,
     "metadata": {},
     "output_type": "execute_result"
    }
   ],
   "source": [
    "ab_test_df.dtypes"
   ]
  },
  {
   "cell_type": "code",
   "execution_count": 8,
   "id": "a55a984e",
   "metadata": {
    "scrolled": true
   },
   "outputs": [
    {
     "data": {
      "text/plain": [
       "user_id         6324\n",
       "variant_name       2\n",
       "revenue          101\n",
       "dtype: int64"
      ]
     },
     "execution_count": 8,
     "metadata": {},
     "output_type": "execute_result"
    }
   ],
   "source": [
    "ab_test_df.nunique()"
   ]
  },
  {
   "cell_type": "code",
   "execution_count": 9,
   "id": "05b8f148",
   "metadata": {},
   "outputs": [
    {
     "data": {
      "text/plain": [
       "user_id         0\n",
       "variant_name    0\n",
       "revenue         0\n",
       "dtype: int64"
      ]
     },
     "execution_count": 9,
     "metadata": {},
     "output_type": "execute_result"
    }
   ],
   "source": [
    "ab_test_df.isna().sum()"
   ]
  },
  {
   "cell_type": "code",
   "execution_count": 10,
   "id": "c0a89d36",
   "metadata": {
    "scrolled": false
   },
   "outputs": [
    {
     "data": {
      "text/plain": [
       "variant_name\n",
       "variant    0.5016\n",
       "control    0.4984\n",
       "Name: proportion, dtype: float64"
      ]
     },
     "execution_count": 10,
     "metadata": {},
     "output_type": "execute_result"
    }
   ],
   "source": [
    "ab_test_df['variant_name'].value_counts(normalize=True)"
   ]
  },
  {
   "cell_type": "code",
   "execution_count": 11,
   "id": "654326a2",
   "metadata": {
    "scrolled": true
   },
   "outputs": [
    {
     "data": {
      "text/plain": [
       "variant_name\n",
       "1    0.756325\n",
       "2    0.243675\n",
       "Name: proportion, dtype: float64"
      ]
     },
     "execution_count": 11,
     "metadata": {},
     "output_type": "execute_result"
    }
   ],
   "source": [
    "ab_test_df.groupby('user_id')['variant_name'].nunique().value_counts(normalize=True)"
   ]
  },
  {
   "cell_type": "code",
   "execution_count": 12,
   "id": "b251bbe5",
   "metadata": {},
   "outputs": [
    {
     "data": {
      "text/plain": [
       "<Axes: >"
      ]
     },
     "execution_count": 12,
     "metadata": {},
     "output_type": "execute_result"
    },
    {
     "data": {
      "image/png": "[encoded data removed]",
      "text/plain": [
       "<Figure size 640x480 with 1 Axes>"
      ]
     },
     "metadata": {},
     "output_type": "display_data"
    }
   ],
   "source": [
    "ab_test_df['revenue'].hist()"
   ]
  },
  {
   "cell_type": "code",
   "execution_count": 13,
   "id": "3bf2ce81",
   "metadata": {
    "scrolled": false
   },
   "outputs": [
    {
     "data": {
      "text/html": [
       "<div>\n",
       "<style scoped>\n",
       "    .dataframe tbody tr th:only-of-type {\n",
       "        vertical-align: middle;\n",
       "    }\n",
       "\n",
       "    .dataframe tbody tr th {\n",
       "        vertical-align: top;\n",
       "    }\n",
       "\n",
       "    .dataframe thead th {\n",
       "        text-align: right;\n",
       "    }\n",
       "</style>\n",
       "<table border=\"1\" class=\"dataframe\">\n",
       "  <thead>\n",
       "    <tr style=\"text-align: right;\">\n",
       "      <th></th>\n",
       "      <th>user_id</th>\n",
       "      <th>variant_name</th>\n",
       "      <th>revenue</th>\n",
       "    </tr>\n",
       "  </thead>\n",
       "  <tbody>\n",
       "    <tr>\n",
       "      <th>106</th>\n",
       "      <td>7704</td>\n",
       "      <td>control</td>\n",
       "      <td>0.0</td>\n",
       "    </tr>\n",
       "    <tr>\n",
       "      <th>195</th>\n",
       "      <td>8406</td>\n",
       "      <td>variant</td>\n",
       "      <td>0.0</td>\n",
       "    </tr>\n",
       "    <tr>\n",
       "      <th>224</th>\n",
       "      <td>7042</td>\n",
       "      <td>variant</td>\n",
       "      <td>0.0</td>\n",
       "    </tr>\n",
       "    <tr>\n",
       "      <th>302</th>\n",
       "      <td>4409</td>\n",
       "      <td>control</td>\n",
       "      <td>0.0</td>\n",
       "    </tr>\n",
       "    <tr>\n",
       "      <th>422</th>\n",
       "      <td>1621</td>\n",
       "      <td>variant</td>\n",
       "      <td>0.0</td>\n",
       "    </tr>\n",
       "    <tr>\n",
       "      <th>...</th>\n",
       "      <td>...</td>\n",
       "      <td>...</td>\n",
       "      <td>...</td>\n",
       "    </tr>\n",
       "    <tr>\n",
       "      <th>9989</th>\n",
       "      <td>2444</td>\n",
       "      <td>variant</td>\n",
       "      <td>0.0</td>\n",
       "    </tr>\n",
       "    <tr>\n",
       "      <th>9993</th>\n",
       "      <td>2400</td>\n",
       "      <td>variant</td>\n",
       "      <td>0.0</td>\n",
       "    </tr>\n",
       "    <tr>\n",
       "      <th>9994</th>\n",
       "      <td>3129</td>\n",
       "      <td>control</td>\n",
       "      <td>0.0</td>\n",
       "    </tr>\n",
       "    <tr>\n",
       "      <th>9995</th>\n",
       "      <td>1981</td>\n",
       "      <td>control</td>\n",
       "      <td>0.0</td>\n",
       "    </tr>\n",
       "    <tr>\n",
       "      <th>9997</th>\n",
       "      <td>9214</td>\n",
       "      <td>variant</td>\n",
       "      <td>0.0</td>\n",
       "    </tr>\n",
       "  </tbody>\n",
       "</table>\n",
       "<p>2067 rows × 3 columns</p>\n",
       "</div>"
      ],
      "text/plain": [
       "      user_id variant_name  revenue\n",
       "106      7704      control      0.0\n",
       "195      8406      variant      0.0\n",
       "224      7042      variant      0.0\n",
       "302      4409      control      0.0\n",
       "422      1621      variant      0.0\n",
       "...       ...          ...      ...\n",
       "9989     2444      variant      0.0\n",
       "9993     2400      variant      0.0\n",
       "9994     3129      control      0.0\n",
       "9995     1981      control      0.0\n",
       "9997     9214      variant      0.0\n",
       "\n",
       "[2067 rows x 3 columns]"
      ]
     },
     "execution_count": 13,
     "metadata": {},
     "output_type": "execute_result"
    }
   ],
   "source": [
    "ab_test_df[ab_test_df.duplicated()]"
   ]
  },
  {
   "cell_type": "code",
   "execution_count": 14,
   "id": "f2a11d5d",
   "metadata": {},
   "outputs": [],
   "source": [
    "ab_df_unique = ab_test_df.drop_duplicates()"
   ]
  },
  {
   "cell_type": "code",
   "execution_count": 15,
   "id": "6883f19b",
   "metadata": {
    "scrolled": true
   },
   "outputs": [
    {
     "data": {
      "text/html": [
       "<div>\n",
       "<style scoped>\n",
       "    .dataframe tbody tr th:only-of-type {\n",
       "        vertical-align: middle;\n",
       "    }\n",
       "\n",
       "    .dataframe tbody tr th {\n",
       "        vertical-align: top;\n",
       "    }\n",
       "\n",
       "    .dataframe thead th {\n",
       "        text-align: right;\n",
       "    }\n",
       "</style>\n",
       "<table border=\"1\" class=\"dataframe\">\n",
       "  <thead>\n",
       "    <tr style=\"text-align: right;\">\n",
       "      <th></th>\n",
       "      <th>user_id</th>\n",
       "      <th>variant_name</th>\n",
       "      <th>revenue</th>\n",
       "    </tr>\n",
       "  </thead>\n",
       "  <tbody>\n",
       "    <tr>\n",
       "      <th>0</th>\n",
       "      <td>737</td>\n",
       "      <td>variant</td>\n",
       "      <td>0.0</td>\n",
       "    </tr>\n",
       "    <tr>\n",
       "      <th>1</th>\n",
       "      <td>2423</td>\n",
       "      <td>control</td>\n",
       "      <td>0.0</td>\n",
       "    </tr>\n",
       "    <tr>\n",
       "      <th>2</th>\n",
       "      <td>9411</td>\n",
       "      <td>control</td>\n",
       "      <td>0.0</td>\n",
       "    </tr>\n",
       "    <tr>\n",
       "      <th>3</th>\n",
       "      <td>7311</td>\n",
       "      <td>control</td>\n",
       "      <td>0.0</td>\n",
       "    </tr>\n",
       "    <tr>\n",
       "      <th>4</th>\n",
       "      <td>6174</td>\n",
       "      <td>variant</td>\n",
       "      <td>0.0</td>\n",
       "    </tr>\n",
       "  </tbody>\n",
       "</table>\n",
       "</div>"
      ],
      "text/plain": [
       "   user_id variant_name  revenue\n",
       "0      737      variant      0.0\n",
       "1     2423      control      0.0\n",
       "2     9411      control      0.0\n",
       "3     7311      control      0.0\n",
       "4     6174      variant      0.0"
      ]
     },
     "execution_count": 15,
     "metadata": {},
     "output_type": "execute_result"
    }
   ],
   "source": [
    "ab_df_unique.head()"
   ]
  },
  {
   "cell_type": "code",
   "execution_count": 1,
   "id": "ac9cd905",
   "metadata": {},
   "outputs": [
    {
     "ename": "NameError",
     "evalue": "name 'ab_df_unique' is not defined",
     "output_type": "error",
     "traceback": [
      "\u001b[1;31m---------------------------------------------------------------------------\u001b[0m",
      "\u001b[1;31mNameError\u001b[0m                                 Traceback (most recent call last)",
      "Cell \u001b[1;32mIn[1], line 1\u001b[0m\n\u001b[1;32m----> 1\u001b[0m ab_df_unique[\u001b[38;5;124m'\u001b[39m\u001b[38;5;124mvariant_name\u001b[39m\u001b[38;5;124m'\u001b[39m]\u001b[38;5;241m.\u001b[39mvalue_counts(normalize\u001b[38;5;241m=\u001b[39m\u001b[38;5;28;01mTrue\u001b[39;00m)\n",
      "\u001b[1;31mNameError\u001b[0m: name 'ab_df_unique' is not defined"
     ]
    }
   ],
   "source": [
    "ab_df_unique['variant_name'].value_counts(normalize=True)\n",
    "# Samples are almost identical, we can apply ab test"
   ]
  },
  {
   "cell_type": "code",
   "execution_count": 17,
   "id": "b8e0363f",
   "metadata": {
    "scrolled": false
   },
   "outputs": [
    {
     "data": {
      "text/plain": [
       "7933"
      ]
     },
     "execution_count": 17,
     "metadata": {},
     "output_type": "execute_result"
    }
   ],
   "source": [
    "len(ab_df_unique)"
   ]
  },
  {
   "cell_type": "code",
   "execution_count": 18,
   "id": "aed132d5",
   "metadata": {},
   "outputs": [
    {
     "data": {
      "text/html": [
       "<div>\n",
       "<style scoped>\n",
       "    .dataframe tbody tr th:only-of-type {\n",
       "        vertical-align: middle;\n",
       "    }\n",
       "\n",
       "    .dataframe tbody tr th {\n",
       "        vertical-align: top;\n",
       "    }\n",
       "\n",
       "    .dataframe thead tr th {\n",
       "        text-align: left;\n",
       "    }\n",
       "</style>\n",
       "<table border=\"1\" class=\"dataframe\">\n",
       "  <thead>\n",
       "    <tr>\n",
       "      <th></th>\n",
       "      <th>variant_name</th>\n",
       "      <th colspan=\"5\" halign=\"left\">revenue</th>\n",
       "    </tr>\n",
       "    <tr>\n",
       "      <th></th>\n",
       "      <th></th>\n",
       "      <th>mean</th>\n",
       "      <th>std</th>\n",
       "      <th>mode</th>\n",
       "      <th>count</th>\n",
       "      <th>sum</th>\n",
       "    </tr>\n",
       "  </thead>\n",
       "  <tbody>\n",
       "    <tr>\n",
       "      <th>0</th>\n",
       "      <td>control</td>\n",
       "      <td>0.161842</td>\n",
       "      <td>3.367815</td>\n",
       "      <td>0.0</td>\n",
       "      <td>3973</td>\n",
       "      <td>643.00</td>\n",
       "    </tr>\n",
       "    <tr>\n",
       "      <th>1</th>\n",
       "      <td>variant</td>\n",
       "      <td>0.088755</td>\n",
       "      <td>1.479239</td>\n",
       "      <td>0.0</td>\n",
       "      <td>3960</td>\n",
       "      <td>351.47</td>\n",
       "    </tr>\n",
       "  </tbody>\n",
       "</table>\n",
       "</div>"
      ],
      "text/plain": [
       "  variant_name   revenue                             \n",
       "                    mean       std mode count     sum\n",
       "0      control  0.161842  3.367815  0.0  3973  643.00\n",
       "1      variant  0.088755  1.479239  0.0  3960  351.47"
      ]
     },
     "execution_count": 18,
     "metadata": {},
     "output_type": "execute_result"
    }
   ],
   "source": [
    "ab_df_unique.groupby('variant_name', as_index =False)\\\n",
    "            .agg({'revenue' : [np.mean, np.std, pd.Series.mode, 'count', np.sum]})"
   ]
  },
  {
   "cell_type": "code",
   "execution_count": 19,
   "id": "766ec387",
   "metadata": {
    "scrolled": true
   },
   "outputs": [
    {
     "data": {
      "text/plain": [
       "count    7933.000000\n",
       "mean        0.125359\n",
       "std         2.602527\n",
       "min         0.000000\n",
       "25%         0.000000\n",
       "50%         0.000000\n",
       "75%         0.000000\n",
       "max       196.010000\n",
       "Name: revenue, dtype: float64"
      ]
     },
     "execution_count": 19,
     "metadata": {},
     "output_type": "execute_result"
    }
   ],
   "source": [
    "ab_df_unique['revenue'].describe()"
   ]
  },
  {
   "cell_type": "code",
   "execution_count": 20,
   "id": "7587e807",
   "metadata": {},
   "outputs": [],
   "source": [
    "control =ab_df_unique.query(\"variant_name =='control'\").reset_index(drop= True)"
   ]
  },
  {
   "cell_type": "code",
   "execution_count": 21,
   "id": "103989cc",
   "metadata": {},
   "outputs": [],
   "source": [
    "test =ab_df_unique.query(\"variant_name =='variant'\").reset_index(drop= True)"
   ]
  },
  {
   "cell_type": "code",
   "execution_count": 22,
   "id": "09764a89",
   "metadata": {},
   "outputs": [
    {
     "data": {
      "text/plain": [
       "(0.0, 10.0)"
      ]
     },
     "execution_count": 22,
     "metadata": {},
     "output_type": "execute_result"
    },
    {
     "data": {
      "image/png": "[encoded data removed]",
      "text/plain": [
       "<Figure size 640x480 with 1 Axes>"
      ]
     },
     "metadata": {},
     "output_type": "display_data"
    }
   ],
   "source": [
    "fig = plt.figure()\n",
    "ax_clicks = fig.add_subplot()\n",
    "clicks_distr = sns.histplot(control['revenue'],\n",
    "                            bins=range(0, 10),\n",
    "                            kde=False,\n",
    "                            ax=ax_clicks,\n",
    "                            stat='probability')\n",
    "ax_clicks.set_xlim((0, 10))"
   ]
  },
  {
   "cell_type": "code",
   "execution_count": 23,
   "id": "0fa587fa",
   "metadata": {},
   "outputs": [
    {
     "data": {
      "text/plain": [
       "(0.0, 10.0)"
      ]
     },
     "execution_count": 23,
     "metadata": {},
     "output_type": "execute_result"
    },
    {
     "data": {
      "image/png": "[encoded data removed]",
      "text/plain": [
       "<Figure size 640x480 with 1 Axes>"
      ]
     },
     "metadata": {},
     "output_type": "display_data"
    }
   ],
   "source": [
    "fig = plt.figure()\n",
    "ax_clicks = fig.add_subplot()\n",
    "clicks_distr = sns.histplot(test['revenue'], \n",
    "                            bins=range(0, 10),\n",
    "                            kde=False,\n",
    "                            ax=ax_clicks,\n",
    "                            stat='probability')\n",
    "ax_clicks.set_xlim((0, 10))"
   ]
  },
  {
   "cell_type": "code",
   "execution_count": 24,
   "id": "e0664088",
   "metadata": {},
   "outputs": [],
   "source": [
    "control_revenue = ab_df_unique[ab_df_unique['variant_name'] == 'control']['revenue']\n",
    "test_revenue = ab_df_unique[ab_df_unique['variant_name'] == 'variant']['revenue']"
   ]
  },
  {
   "cell_type": "code",
   "execution_count": 25,
   "id": "40b8d8ee",
   "metadata": {},
   "outputs": [
    {
     "data": {
      "image/png": "[encoded data removed]",
      "text/plain": [
       "<Figure size 640x480 with 1 Axes>"
      ]
     },
     "metadata": {},
     "output_type": "display_data"
    },
    {
     "data": {
      "image/png": "[encoded data removed]",
      "text/plain": [
       "<Figure size 640x480 with 1 Axes>"
      ]
     },
     "metadata": {},
     "output_type": "display_data"
    }
   ],
   "source": [
    "probplot(np.random.choice(control_revenue,1000), dist=\"norm\",plot=plt)\n",
    "plt.show()\n",
    "probplot(np.random.choice(test_revenue,1000), dist=\"norm\",plot=plt)\n",
    "plt.show()"
   ]
  },
  {
   "cell_type": "markdown",
   "id": "535f1b5e",
   "metadata": {},
   "source": [
    "The data is not normally distributed, in order to check the p-value we need the Mann-Whitney test and the Bootstrap method.\n",
    "\n",
    "There is a shoulder to the right, it is better to use Bootstrap (Bootstrap is an expensive procedure)"
   ]
  },
  {
   "cell_type": "markdown",
   "id": "bbaf6a39",
   "metadata": {},
   "source": [
    "#  Mann–Whitney U test "
   ]
  },
  {
   "cell_type": "code",
   "execution_count": 26,
   "id": "79330fba",
   "metadata": {},
   "outputs": [],
   "source": [
    "u_stat, p_value = mannwhitneyu(control_revenue, test_revenue)"
   ]
  },
  {
   "cell_type": "code",
   "execution_count": 27,
   "id": "3579b328",
   "metadata": {},
   "outputs": [
    {
     "data": {
      "text/plain": [
       "(7882388.0, 0.5128877468183902)"
      ]
     },
     "execution_count": 27,
     "metadata": {},
     "output_type": "execute_result"
    }
   ],
   "source": [
    "u_stat, p_value"
   ]
  },
  {
   "cell_type": "markdown",
   "id": "45be3df6",
   "metadata": {},
   "source": [
    "p_value=0.51, если округлить, то можно опровергнуть нулевую гипотезу и предполагаем, что различия статистически значимые."
   ]
  },
  {
   "cell_type": "markdown",
   "id": "18c9a496",
   "metadata": {},
   "source": [
    "# Bootstrap test"
   ]
  },
  {
   "cell_type": "code",
   "execution_count": 28,
   "id": "1e594284",
   "metadata": {},
   "outputs": [],
   "source": [
    "np.random.seed(42)\n",
    "n = 10000\n",
    "control_means = np.random.choice(control_revenue, size=(n, len(control_revenue)), replace=True).mean(axis=1)\n",
    "test_means = np.random.choice(test_revenue, size=(n, len(test_revenue)), replace=True).mean(axis=1)"
   ]
  },
  {
   "cell_type": "code",
   "execution_count": 44,
   "id": "b75ff6bb",
   "metadata": {},
   "outputs": [
    {
     "data": {
      "image/png": "[encoded data removed]",
      "text/plain": [
       "<Figure size 1400x700 with 1 Axes>"
      ]
     },
     "metadata": {},
     "output_type": "display_data"
    }
   ],
   "source": [
    "plt.figure(figsize=(14, 7))\n",
    "\n",
    "sns.histplot(control_means, color='blue', kde=True, label='Control means')\n",
    "sns.histplot(test_means, color='black', kde=True, label='Test means')\n",
    "\n",
    "plt.axvline(control_revenue.mean(), color='blue', linestyle='dashed', linewidth=2)\n",
    "plt.axvline(test_revenue.mean(), color='black', linestyle='dashed', linewidth=2)\n",
    "plt.legend()\n",
    "plt.title('Bootstrap distribution of means for Control and Test Groups')\n",
    "plt.xlabel('Mean revenue')\n",
    "plt.ylabel('Frequency')\n",
    "plt.show()"
   ]
  },
  {
   "cell_type": "markdown",
   "id": "25bd2fd8",
   "metadata": {},
   "source": [
    "# Выводы"
   ]
  },
  {
   "cell_type": "code",
   "execution_count": 43,
   "id": "86b2231b",
   "metadata": {},
   "outputs": [
    {
     "data": {
      "text/plain": [
       "(0.16, 0.09, 0.51)"
      ]
     },
     "execution_count": 43,
     "metadata": {},
     "output_type": "execute_result"
    }
   ],
   "source": [
    "control_mean = np.mean(control_means).round(2)\n",
    "variant_mean = np.mean(test_means).round(2)\n",
    "mann_whitney_p_value = p_value.round(2)\n",
    "\n",
    "control_mean, variant_mean, mann_whitney_p_value"
   ]
  },
  {
   "cell_type": "markdown",
   "id": "72f099ab",
   "metadata": {},
   "source": [
    "Хоть тест Манна-Уитни  показвает p_value=0.51,т.е у нас есть основание опровергнуть H₀.\n",
    "\n",
    "Но метод Bootstrap показал отствие явного различия: распределения сильно перекрываются, это может свидетельствовать о том, что разница между средними значениями групп незначительна, и эффект введенных изменений мал.\n",
    "\n",
    "Возможная незначительная разница: это не обязательно означает, что различия нет, но, скорее всего, если разница существует, она незначительная или статистически незначимая."
   ]
  }
 ],
 "metadata": {
  "kernelspec": {
   "display_name": "Python 3 (ipykernel)",
   "language": "python",
   "name": "python3"
  },
  "language_info": {
   "codemirror_mode": {
    "name": "ipython",
    "version": 3
   },
   "file_extension": ".py",
   "mimetype": "text/x-python",
   "name": "python",
   "nbconvert_exporter": "python",
   "pygments_lexer": "ipython3",
   "version": "3.11.5"
  }
 },
 "nbformat": 4,
 "nbformat_minor": 5
}
